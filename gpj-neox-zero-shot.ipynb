{
 "cells": [
  {
   "cell_type": "code",
   "execution_count": 7,
   "metadata": {},
   "outputs": [
    {
     "name": "stdout",
     "output_type": "stream",
     "text": [
      "Requirement already satisfied: python-dotenv in /usr/local/python/3.10.4/lib/python3.10/site-packages (0.21.1)\n",
      "Note: you may need to restart the kernel to use updated packages.\n",
      "The dotenv extension is already loaded. To reload it, use:\n",
      "  %reload_ext dotenv\n"
     ]
    }
   ],
   "source": [
    "%pip install python-dotenv\n",
    "%load_ext dotenv\n",
    "%dotenv"
   ]
  },
  {
   "cell_type": "code",
   "execution_count": 8,
   "metadata": {},
   "outputs": [
    {
     "name": "stdout",
     "output_type": "stream",
     "text": [
      "{'result': [{'completion': \" there was a king, and he was the most powerful man on Earth. He had everything he could possibly want, and more, but he thought that he had no reason to be happy. One day, after having a long and hard day, the king decided to throw a party.\\n\\nWhen the king's guests\"}], 'timestamp': 1674624313, 'model': 'gpt-neox', 'logprobs': None}\n"
     ]
    }
   ],
   "source": [
    "\n",
    "import requests\n",
    "import json\n",
    "import os\n",
    "\n",
    "headers = {\n",
    "  \"Authorization\": \"Bearer \" + os.environ['FOREFRONT_API_TOKEN'],\n",
    "  \"Content-Type\": \"application/json\"\n",
    "}\n",
    "\n",
    "body = {\n",
    "  \"text\": \"\"\"Once upon a time\"\"\",\n",
    "  \"top_p\": 1,\n",
    "  \"top_k\": 40,\n",
    "  \"temperature\": 0.8,\n",
    "  \"repetition_penalty\":  1,\n",
    "  \"length\": 64\n",
    "  }\n",
    "\n",
    "res = requests.post(\n",
    "  \"https://shared-api.forefront.link/organization/hUHf2szDaEmA/gpt-neox-20b-vanilla/completions/8g7cWyM2hCGH\",\n",
    "  json=body,\n",
    "  headers=headers\n",
    ")\n",
    "\n",
    "data = res.json()\n",
    "\n",
    "print(data)"
   ]
  }
 ],
 "metadata": {
  "kernelspec": {
   "display_name": "Python 3",
   "language": "python",
   "name": "python3"
  },
  "language_info": {
   "codemirror_mode": {
    "name": "ipython",
    "version": 3
   },
   "file_extension": ".py",
   "mimetype": "text/x-python",
   "name": "python",
   "nbconvert_exporter": "python",
   "pygments_lexer": "ipython3",
   "version": "3.9.6 (default, Oct 18 2022, 12:41:40) \n[Clang 14.0.0 (clang-1400.0.29.202)]"
  },
  "orig_nbformat": 4,
  "vscode": {
   "interpreter": {
    "hash": "31f2aee4e71d21fbe5cf8b01ff0e069b9275f58929596ceb00d14d90e3e16cd6"
   }
  }
 },
 "nbformat": 4,
 "nbformat_minor": 2
}
