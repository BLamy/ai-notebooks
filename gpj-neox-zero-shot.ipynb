{
 "cells": [
  {
   "cell_type": "code",
   "execution_count": 7,
   "metadata": {},
   "outputs": [
    {
     "name": "stdout",
     "output_type": "stream",
     "text": [
      "Requirement already satisfied: python-dotenv in /usr/local/python/3.10.4/lib/python3.10/site-packages (0.21.1)\n",
      "Note: you may need to restart the kernel to use updated packages.\n",
      "The dotenv extension is already loaded. To reload it, use:\n",
      "  %reload_ext dotenv\n"
     ]
    }
   ],
   "source": [
    "%pip install python-dotenv\n",
    "%load_ext dotenv\n",
    "%dotenv"
   ]
  },
  {
   "cell_type": "code",
   "execution_count": 8,
   "metadata": {},
   "outputs": [
    {
     "name": "stdout",
     "output_type": "stream",
     "text": [
      "{'result': [{'completion': \" there was a king, and he was the most powerful man on Earth. He had everything he could possibly want, and more, but he thought that he had no reason to be happy. One day, after having a long and hard day, the king decided to throw a party.\\n\\nWhen the king's guests\"}], 'timestamp': 1674624313, 'model': 'gpt-neox', 'logprobs': None}\n"
     ]
    }
   ],
   "source": [
    "\n",
    "import requests\n",
    "import json\n",
    "import os\n",
    "\n",
    "headers = {\n",
    "  \"Authorization\": \"Bearer \" + os.environ['FOREFRONT_API_TOKEN'],\n",
    "  \"Content-Type\": \"application/json\"\n",
    "}\n",
    "\n",
    "body = {\n",
    "  \"text\": \"\"\"Once upon a time\"\"\",\n",
    "  \"top_p\": 1,\n",
    "  \"top_k\": 40,\n",
    "  \"temperature\": 0.8,\n",
    "  \"repetition_penalty\":  1,\n",
    "  \"length\": 64\n",
    "  }\n",
    "\n",
    "res = requests.post(\n",
    "  \"https://shared-api.forefront.link/organization/hUHf2szDaEmA/gpt-neox-20b-vanilla/completions/8g7cWyM2hCGH\",\n",
    "  json=body,\n",
    "  headers=headers\n",
    ")\n",
    "\n",
    "data = res.json()\n",
    "\n",
    "print(data)"
   ]
  }
 ],
 "metadata": {
  "kernelspec": {
   "display_name": "Python 3",
   "language": "python",
   "name": "python3"
  },
  "language_info": {
   "codemirror_mode": {
    "name": "ipython",
    "version": 3
   },
   "file_extension": ".py",
   "mimetype": "text/x-python",
   "name": "python",
   "nbconvert_exporter": "python",
   "pygments_lexer": "ipython3",
   "version": "3.10.4"
  },
  "orig_nbformat": 4,
  "vscode": {
   "interpreter": {
    "hash": "3ad933181bd8a04b432d3370b9dc3b0662ad032c4dfaa4e4f1596c548f763858"
   }
  }
 },
 "nbformat": 4,
 "nbformat_minor": 2
}
