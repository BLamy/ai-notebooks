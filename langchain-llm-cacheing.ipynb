{
 "cells": [
  {
   "cell_type": "code",
   "execution_count": 1,
   "metadata": {},
   "outputs": [
    {
     "name": "stdout",
     "output_type": "stream",
     "text": [
      "Defaulting to user installation because normal site-packages is not writeable\n",
      "Requirement already satisfied: langchain in /Users/blamy/Library/Python/3.9/lib/python/site-packages (0.0.74)\n",
      "Requirement already satisfied: pydantic<2,>=1 in /Users/blamy/Library/Python/3.9/lib/python/site-packages (from langchain) (1.10.4)\n",
      "Requirement already satisfied: PyYAML<7,>=6 in /Users/blamy/Library/Python/3.9/lib/python/site-packages (from langchain) (6.0)\n",
      "Requirement already satisfied: SQLAlchemy<2,>=1 in /Users/blamy/Library/Python/3.9/lib/python/site-packages (from langchain) (1.4.46)\n",
      "Requirement already satisfied: requests<3,>=2 in /Users/blamy/Library/Python/3.9/lib/python/site-packages (from langchain) (2.28.2)\n",
      "Requirement already satisfied: numpy<2,>=1 in /Users/blamy/Library/Python/3.9/lib/python/site-packages (from langchain) (1.24.1)\n",
      "Requirement already satisfied: dataclasses-json<0.6.0,>=0.5.7 in /Users/blamy/Library/Python/3.9/lib/python/site-packages (from langchain) (0.5.7)\n",
      "Requirement already satisfied: marshmallow<4.0.0,>=3.3.0 in /Users/blamy/Library/Python/3.9/lib/python/site-packages (from dataclasses-json<0.6.0,>=0.5.7->langchain) (3.19.0)\n",
      "Requirement already satisfied: marshmallow-enum<2.0.0,>=1.5.1 in /Users/blamy/Library/Python/3.9/lib/python/site-packages (from dataclasses-json<0.6.0,>=0.5.7->langchain) (1.5.1)\n",
      "Requirement already satisfied: typing-inspect>=0.4.0 in /Users/blamy/Library/Python/3.9/lib/python/site-packages (from dataclasses-json<0.6.0,>=0.5.7->langchain) (0.8.0)\n",
      "Requirement already satisfied: packaging>=17.0 in /Users/blamy/Library/Python/3.9/lib/python/site-packages (from marshmallow<4.0.0,>=3.3.0->dataclasses-json<0.6.0,>=0.5.7->langchain) (23.0)\n",
      "Requirement already satisfied: typing-extensions>=4.2.0 in /Users/blamy/Library/Python/3.9/lib/python/site-packages (from pydantic<2,>=1->langchain) (4.4.0)\n",
      "Requirement already satisfied: charset-normalizer<4,>=2 in /Users/blamy/Library/Python/3.9/lib/python/site-packages (from requests<3,>=2->langchain) (2.1.1)\n",
      "Requirement already satisfied: urllib3<1.27,>=1.21.1 in /Users/blamy/Library/Python/3.9/lib/python/site-packages (from requests<3,>=2->langchain) (1.26.14)\n",
      "Requirement already satisfied: idna<4,>=2.5 in /Users/blamy/Library/Python/3.9/lib/python/site-packages (from requests<3,>=2->langchain) (3.4)\n",
      "Requirement already satisfied: certifi>=2017.4.17 in /Users/blamy/Library/Python/3.9/lib/python/site-packages (from requests<3,>=2->langchain) (2022.12.7)\n",
      "Requirement already satisfied: mypy-extensions>=0.3.0 in /Users/blamy/Library/Python/3.9/lib/python/site-packages (from typing-inspect>=0.4.0->dataclasses-json<0.6.0,>=0.5.7->langchain) (0.4.3)\n",
      "\u001b[33mWARNING: You are using pip version 21.2.4; however, version 22.3.1 is available.\n",
      "You should consider upgrading via the '/Library/Developer/CommandLineTools/usr/bin/python3 -m pip install --upgrade pip' command.\u001b[0m\n",
      "Note: you may need to restart the kernel to use updated packages.\n",
      "Defaulting to user installation because normal site-packages is not writeable\n",
      "Requirement already satisfied: openai in /Users/blamy/Library/Python/3.9/lib/python/site-packages (0.26.3)\n",
      "Collecting openai\n",
      "  Using cached openai-0.26.4.tar.gz (55 kB)\n",
      "\u001b[33m  WARNING: Value for prefixed-purelib does not match. Please report this to <https://github.com/pypa/pip/issues/10151>\n",
      "  distutils: /private/var/folders/yj/75gv77414dsd_3km1d4hs2l40000gn/T/pip-build-env-qlwkpqo0/normal/lib/python3.9/site-packages\n",
      "  sysconfig: /Library/Python/3.9/site-packages\u001b[0m\n",
      "\u001b[33m  WARNING: Value for prefixed-platlib does not match. Please report this to <https://github.com/pypa/pip/issues/10151>\n",
      "  distutils: /private/var/folders/yj/75gv77414dsd_3km1d4hs2l40000gn/T/pip-build-env-qlwkpqo0/normal/lib/python3.9/site-packages\n",
      "  sysconfig: /Library/Python/3.9/site-packages\u001b[0m\n",
      "\u001b[33m  WARNING: Additional context:\n",
      "  user = False\n",
      "  home = None\n",
      "  root = None\n",
      "  prefix = '/private/var/folders/yj/75gv77414dsd_3km1d4hs2l40000gn/T/pip-build-env-qlwkpqo0/normal'\u001b[0m\n",
      "\u001b[33m  WARNING: Value for prefixed-purelib does not match. Please report this to <https://github.com/pypa/pip/issues/10151>\n",
      "  distutils: /private/var/folders/yj/75gv77414dsd_3km1d4hs2l40000gn/T/pip-build-env-qlwkpqo0/overlay/lib/python3.9/site-packages\n",
      "  sysconfig: /Library/Python/3.9/site-packages\u001b[0m\n",
      "\u001b[33m  WARNING: Value for prefixed-platlib does not match. Please report this to <https://github.com/pypa/pip/issues/10151>\n",
      "  distutils: /private/var/folders/yj/75gv77414dsd_3km1d4hs2l40000gn/T/pip-build-env-qlwkpqo0/overlay/lib/python3.9/site-packages\n",
      "  sysconfig: /Library/Python/3.9/site-packages\u001b[0m\n",
      "\u001b[33m  WARNING: Additional context:\n",
      "  user = False\n",
      "  home = None\n",
      "  root = None\n",
      "  prefix = '/private/var/folders/yj/75gv77414dsd_3km1d4hs2l40000gn/T/pip-build-env-qlwkpqo0/overlay'\u001b[0m\n",
      "  Installing build dependencies ... \u001b[?25ldone\n",
      "\u001b[?25h  Getting requirements to build wheel ... \u001b[?25lerror\n",
      "\u001b[31m  ERROR: Command errored out with exit status 1:\n",
      "   command: /Library/Developer/CommandLineTools/usr/bin/python3 /Library/Developer/CommandLineTools/Library/Frameworks/Python3.framework/Versions/3.9/lib/python3.9/site-packages/pip/_vendor/pep517/in_process/_in_process.py get_requires_for_build_wheel /var/folders/yj/75gv77414dsd_3km1d4hs2l40000gn/T/tmpcyl17e_l\n",
      "       cwd: /private/var/folders/yj/75gv77414dsd_3km1d4hs2l40000gn/T/pip-install-0ufozbck/openai_f808b08f497c45c58799f16726528c70\n",
      "  Complete output (81 lines):\n",
      "  Traceback (most recent call last):\n",
      "    File \"/Library/Developer/CommandLineTools/Library/Frameworks/Python3.framework/Versions/3.9/lib/python3.9/site-packages/setuptools/config.py\", line 419, in _parse_attr\n",
      "      return getattr(StaticModule(module_name), attr_name)\n",
      "    File \"/Library/Developer/CommandLineTools/Library/Frameworks/Python3.framework/Versions/3.9/lib/python3.9/site-packages/setuptools/config.py\", line 26, in __init__\n",
      "      spec = importlib.util.find_spec(name)\n",
      "    File \"/Library/Developer/CommandLineTools/Library/Frameworks/Python3.framework/Versions/3.9/lib/python3.9/importlib/util.py\", line 94, in find_spec\n",
      "      parent = __import__(parent_name, fromlist=['__path__'])\n",
      "    File \"/private/var/folders/yj/75gv77414dsd_3km1d4hs2l40000gn/T/pip-install-0ufozbck/openai_f808b08f497c45c58799f16726528c70/openai/__init__.py\", line 9, in <module>\n",
      "      from openai.api_resources import (\n",
      "    File \"/private/var/folders/yj/75gv77414dsd_3km1d4hs2l40000gn/T/pip-install-0ufozbck/openai_f808b08f497c45c58799f16726528c70/openai/api_resources/__init__.py\", line 1, in <module>\n",
      "      from openai.api_resources.completion import Completion  # noqa: F401\n",
      "    File \"/private/var/folders/yj/75gv77414dsd_3km1d4hs2l40000gn/T/pip-install-0ufozbck/openai_f808b08f497c45c58799f16726528c70/openai/api_resources/completion.py\", line 4, in <module>\n",
      "      from openai.api_resources.abstract import DeletableAPIResource, ListableAPIResource\n",
      "    File \"/private/var/folders/yj/75gv77414dsd_3km1d4hs2l40000gn/T/pip-install-0ufozbck/openai_f808b08f497c45c58799f16726528c70/openai/api_resources/abstract/__init__.py\", line 3, in <module>\n",
      "      from openai.api_resources.abstract.api_resource import APIResource\n",
      "    File \"/private/var/folders/yj/75gv77414dsd_3km1d4hs2l40000gn/T/pip-install-0ufozbck/openai_f808b08f497c45c58799f16726528c70/openai/api_resources/abstract/api_resource.py\", line 4, in <module>\n",
      "      from openai import api_requestor, error, util\n",
      "    File \"/private/var/folders/yj/75gv77414dsd_3km1d4hs2l40000gn/T/pip-install-0ufozbck/openai_f808b08f497c45c58799f16726528c70/openai/api_requestor.py\", line 21, in <module>\n",
      "      import aiohttp\n",
      "  ModuleNotFoundError: No module named 'aiohttp'\n",
      "  \n",
      "  During handling of the above exception, another exception occurred:\n",
      "  \n",
      "  Traceback (most recent call last):\n",
      "    File \"/Library/Developer/CommandLineTools/Library/Frameworks/Python3.framework/Versions/3.9/lib/python3.9/site-packages/pip/_vendor/pep517/in_process/_in_process.py\", line 349, in <module>\n",
      "      main()\n",
      "    File \"/Library/Developer/CommandLineTools/Library/Frameworks/Python3.framework/Versions/3.9/lib/python3.9/site-packages/pip/_vendor/pep517/in_process/_in_process.py\", line 331, in main\n",
      "      json_out['return_val'] = hook(**hook_input['kwargs'])\n",
      "    File \"/Library/Developer/CommandLineTools/Library/Frameworks/Python3.framework/Versions/3.9/lib/python3.9/site-packages/pip/_vendor/pep517/in_process/_in_process.py\", line 117, in get_requires_for_build_wheel\n",
      "      return hook(config_settings)\n",
      "    File \"/Library/Developer/CommandLineTools/Library/Frameworks/Python3.framework/Versions/3.9/lib/python3.9/site-packages/setuptools/build_meta.py\", line 154, in get_requires_for_build_wheel\n",
      "      return self._get_build_requires(\n",
      "    File \"/Library/Developer/CommandLineTools/Library/Frameworks/Python3.framework/Versions/3.9/lib/python3.9/site-packages/setuptools/build_meta.py\", line 135, in _get_build_requires\n",
      "      self.run_setup()\n",
      "    File \"/Library/Developer/CommandLineTools/Library/Frameworks/Python3.framework/Versions/3.9/lib/python3.9/site-packages/setuptools/build_meta.py\", line 150, in run_setup\n",
      "      exec(compile(code, __file__, 'exec'), locals())\n",
      "    File \"setup.py\", line 3, in <module>\n",
      "      setup()\n",
      "    File \"/Library/Developer/CommandLineTools/Library/Frameworks/Python3.framework/Versions/3.9/lib/python3.9/site-packages/setuptools/__init__.py\", line 153, in setup\n",
      "      return distutils.core.setup(**attrs)\n",
      "    File \"/Library/Developer/CommandLineTools/Library/Frameworks/Python3.framework/Versions/3.9/lib/python3.9/site-packages/setuptools/_distutils/core.py\", line 121, in setup\n",
      "      dist.parse_config_files()\n",
      "    File \"/Library/Developer/CommandLineTools/Library/Frameworks/Python3.framework/Versions/3.9/lib/python3.9/site-packages/setuptools/dist.py\", line 798, in parse_config_files\n",
      "      parse_configuration(\n",
      "    File \"/Library/Developer/CommandLineTools/Library/Frameworks/Python3.framework/Versions/3.9/lib/python3.9/site-packages/setuptools/config.py\", line 158, in parse_configuration\n",
      "      meta.parse()\n",
      "    File \"/Library/Developer/CommandLineTools/Library/Frameworks/Python3.framework/Versions/3.9/lib/python3.9/site-packages/setuptools/config.py\", line 498, in parse\n",
      "      section_parser_method(section_options)\n",
      "    File \"/Library/Developer/CommandLineTools/Library/Frameworks/Python3.framework/Versions/3.9/lib/python3.9/site-packages/setuptools/config.py\", line 469, in parse_section\n",
      "      self[name] = value\n",
      "    File \"/Library/Developer/CommandLineTools/Library/Frameworks/Python3.framework/Versions/3.9/lib/python3.9/site-packages/setuptools/config.py\", line 222, in __setitem__\n",
      "      value = parser(value)\n",
      "    File \"/Library/Developer/CommandLineTools/Library/Frameworks/Python3.framework/Versions/3.9/lib/python3.9/site-packages/setuptools/config.py\", line 597, in _parse_version\n",
      "      version = self._parse_attr(value, self.package_dir)\n",
      "    File \"/Library/Developer/CommandLineTools/Library/Frameworks/Python3.framework/Versions/3.9/lib/python3.9/site-packages/setuptools/config.py\", line 422, in _parse_attr\n",
      "      module = importlib.import_module(module_name)\n",
      "    File \"/Library/Developer/CommandLineTools/Library/Frameworks/Python3.framework/Versions/3.9/lib/python3.9/importlib/__init__.py\", line 127, in import_module\n",
      "      return _bootstrap._gcd_import(name[level:], package, level)\n",
      "    File \"<frozen importlib._bootstrap>\", line 1030, in _gcd_import\n",
      "    File \"<frozen importlib._bootstrap>\", line 1007, in _find_and_load\n",
      "    File \"<frozen importlib._bootstrap>\", line 972, in _find_and_load_unlocked\n",
      "    File \"<frozen importlib._bootstrap>\", line 228, in _call_with_frames_removed\n",
      "    File \"<frozen importlib._bootstrap>\", line 1030, in _gcd_import\n",
      "    File \"<frozen importlib._bootstrap>\", line 1007, in _find_and_load\n",
      "    File \"<frozen importlib._bootstrap>\", line 986, in _find_and_load_unlocked\n",
      "    File \"<frozen importlib._bootstrap>\", line 680, in _load_unlocked\n",
      "    File \"<frozen importlib._bootstrap_external>\", line 850, in exec_module\n",
      "    File \"<frozen importlib._bootstrap>\", line 228, in _call_with_frames_removed\n",
      "    File \"/private/var/folders/yj/75gv77414dsd_3km1d4hs2l40000gn/T/pip-install-0ufozbck/openai_f808b08f497c45c58799f16726528c70/openai/__init__.py\", line 9, in <module>\n",
      "      from openai.api_resources import (\n",
      "    File \"/private/var/folders/yj/75gv77414dsd_3km1d4hs2l40000gn/T/pip-install-0ufozbck/openai_f808b08f497c45c58799f16726528c70/openai/api_resources/__init__.py\", line 1, in <module>\n",
      "      from openai.api_resources.completion import Completion  # noqa: F401\n",
      "    File \"/private/var/folders/yj/75gv77414dsd_3km1d4hs2l40000gn/T/pip-install-0ufozbck/openai_f808b08f497c45c58799f16726528c70/openai/api_resources/completion.py\", line 4, in <module>\n",
      "      from openai.api_resources.abstract import DeletableAPIResource, ListableAPIResource\n",
      "    File \"/private/var/folders/yj/75gv77414dsd_3km1d4hs2l40000gn/T/pip-install-0ufozbck/openai_f808b08f497c45c58799f16726528c70/openai/api_resources/abstract/__init__.py\", line 3, in <module>\n",
      "      from openai.api_resources.abstract.api_resource import APIResource\n",
      "    File \"/private/var/folders/yj/75gv77414dsd_3km1d4hs2l40000gn/T/pip-install-0ufozbck/openai_f808b08f497c45c58799f16726528c70/openai/api_resources/abstract/api_resource.py\", line 4, in <module>\n",
      "      from openai import api_requestor, error, util\n",
      "    File \"/private/var/folders/yj/75gv77414dsd_3km1d4hs2l40000gn/T/pip-install-0ufozbck/openai_f808b08f497c45c58799f16726528c70/openai/api_requestor.py\", line 21, in <module>\n",
      "      import aiohttp\n",
      "  ModuleNotFoundError: No module named 'aiohttp'\n",
      "  ----------------------------------------\u001b[0m\n",
      "\u001b[?25h\u001b[33mWARNING: Discarding https://files.pythonhosted.org/packages/37/37/eea5ae693a9f95c554ba7665e96a105425d6823782105f2317cb8a2bb8be/openai-0.26.4.tar.gz#sha256=168813319a1422cb71a5005f9e404065483556cea52c9ccbfb838cda134087a7 (from https://pypi.org/simple/openai/) (requires-python:>=3.7.1). Command errored out with exit status 1: /Library/Developer/CommandLineTools/usr/bin/python3 /Library/Developer/CommandLineTools/Library/Frameworks/Python3.framework/Versions/3.9/lib/python3.9/site-packages/pip/_vendor/pep517/in_process/_in_process.py get_requires_for_build_wheel /var/folders/yj/75gv77414dsd_3km1d4hs2l40000gn/T/tmpcyl17e_l Check the logs for full command output.\u001b[0m\n",
      "Requirement already satisfied: requests>=2.20 in /Users/blamy/Library/Python/3.9/lib/python/site-packages (from openai) (2.28.2)\n",
      "Requirement already satisfied: tqdm in /Users/blamy/Library/Python/3.9/lib/python/site-packages (from openai) (4.64.1)\n",
      "Requirement already satisfied: aiohttp in /Users/blamy/Library/Python/3.9/lib/python/site-packages (from openai) (3.8.3)\n",
      "Requirement already satisfied: idna<4,>=2.5 in /Users/blamy/Library/Python/3.9/lib/python/site-packages (from requests>=2.20->openai) (3.4)\n",
      "Requirement already satisfied: certifi>=2017.4.17 in /Users/blamy/Library/Python/3.9/lib/python/site-packages (from requests>=2.20->openai) (2022.12.7)\n",
      "Requirement already satisfied: urllib3<1.27,>=1.21.1 in /Users/blamy/Library/Python/3.9/lib/python/site-packages (from requests>=2.20->openai) (1.26.14)\n",
      "Requirement already satisfied: charset-normalizer<4,>=2 in /Users/blamy/Library/Python/3.9/lib/python/site-packages (from requests>=2.20->openai) (2.1.1)\n",
      "Requirement already satisfied: aiosignal>=1.1.2 in /Users/blamy/Library/Python/3.9/lib/python/site-packages (from aiohttp->openai) (1.3.1)\n",
      "Requirement already satisfied: yarl<2.0,>=1.0 in /Users/blamy/Library/Python/3.9/lib/python/site-packages (from aiohttp->openai) (1.8.2)\n",
      "Requirement already satisfied: frozenlist>=1.1.1 in /Users/blamy/Library/Python/3.9/lib/python/site-packages (from aiohttp->openai) (1.3.3)\n",
      "Requirement already satisfied: multidict<7.0,>=4.5 in /Users/blamy/Library/Python/3.9/lib/python/site-packages (from aiohttp->openai) (6.0.4)\n",
      "Requirement already satisfied: attrs>=17.3.0 in /Users/blamy/Library/Python/3.9/lib/python/site-packages (from aiohttp->openai) (22.2.0)\n",
      "Requirement already satisfied: async-timeout<5.0,>=4.0.0a3 in /Users/blamy/Library/Python/3.9/lib/python/site-packages (from aiohttp->openai) (4.0.2)\n",
      "\u001b[33mWARNING: You are using pip version 21.2.4; however, version 22.3.1 is available.\n",
      "You should consider upgrading via the '/Library/Developer/CommandLineTools/usr/bin/python3 -m pip install --upgrade pip' command.\u001b[0m\n",
      "Note: you may need to restart the kernel to use updated packages.\n",
      "Defaulting to user installation because normal site-packages is not writeable\n",
      "Requirement already satisfied: python-dotenv in /Users/blamy/Library/Python/3.9/lib/python/site-packages (0.21.1)\n",
      "\u001b[33mWARNING: You are using pip version 21.2.4; however, version 22.3.1 is available.\n",
      "You should consider upgrading via the '/Library/Developer/CommandLineTools/usr/bin/python3 -m pip install --upgrade pip' command.\u001b[0m\n",
      "Note: you may need to restart the kernel to use updated packages.\n"
     ]
    }
   ],
   "source": [
    "%pip install langchain\n",
    "%pip install --upgrade openai\n",
    "%pip install python-dotenv\n",
    "%load_ext dotenv\n",
    "%dotenv"
   ]
  },
  {
   "attachments": {},
   "cell_type": "markdown",
   "metadata": {},
   "source": [
    "# [LLM Caching](https://langchain.readthedocs.io/en/latest/modules/llms/examples/llm_caching.html)"
   ]
  },
  {
   "cell_type": "code",
   "execution_count": 2,
   "metadata": {},
   "outputs": [],
   "source": [
    "from langchain.llms import OpenAI\n",
    "import langchain\n",
    "from langchain.cache import InMemoryCache\n",
    "langchain.llm_cache = InMemoryCache()\n",
    "llm = OpenAI(model_name=\"text-davinci-002\", n=2, best_of=2)\n"
   ]
  },
  {
   "cell_type": "code",
   "execution_count": 3,
   "metadata": {},
   "outputs": [
    {
     "name": "stdout",
     "output_type": "stream",
     "text": [
      "CPU times: user 85.2 ms, sys: 5.66 ms, total: 90.9 ms\n",
      "Wall time: 2.04 s\n"
     ]
    },
    {
     "data": {
      "text/plain": [
       "\"\\n\\nWhy couldn't the bicycle stand up by itself? Because it was...two tired!\""
      ]
     },
     "execution_count": 3,
     "metadata": {},
     "output_type": "execute_result"
    }
   ],
   "source": [
    "%%time\n",
    "# The first time, it is not yet in cache, so it should take longer\n",
    "llm(\"Tell me a joke\")"
   ]
  },
  {
   "cell_type": "code",
   "execution_count": 4,
   "metadata": {},
   "outputs": [
    {
     "name": "stdout",
     "output_type": "stream",
     "text": [
      "CPU times: user 48 µs, sys: 1e+03 ns, total: 49 µs\n",
      "Wall time: 49.8 µs\n"
     ]
    },
    {
     "data": {
      "text/plain": [
       "\"\\n\\nWhy couldn't the bicycle stand up by itself? Because it was...two tired!\""
      ]
     },
     "execution_count": 4,
     "metadata": {},
     "output_type": "execute_result"
    }
   ],
   "source": [
    "%%time\n",
    "# The first time, it is not yet in cache, so it should take longer\n",
    "llm(\"Tell me a joke\")"
   ]
  }
 ],
 "metadata": {
  "kernelspec": {
   "display_name": "Python 3",
   "language": "python",
   "name": "python3"
  },
  "language_info": {
   "codemirror_mode": {
    "name": "ipython",
    "version": 3
   },
   "file_extension": ".py",
   "mimetype": "text/x-python",
   "name": "python",
   "nbconvert_exporter": "python",
   "pygments_lexer": "ipython3",
   "version": "3.9.6"
  },
  "orig_nbformat": 4,
  "vscode": {
   "interpreter": {
    "hash": "31f2aee4e71d21fbe5cf8b01ff0e069b9275f58929596ceb00d14d90e3e16cd6"
   }
  }
 },
 "nbformat": 4,
 "nbformat_minor": 2
}
