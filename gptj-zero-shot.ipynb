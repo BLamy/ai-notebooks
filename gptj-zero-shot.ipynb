{
	"metadata": {
		"name": ""
	},
	"nbformat": 3,
	"nbformat_minor": 0,
	"worksheets": [{
		"cells": [{
				"cell_type": "heading",
				"level": 1,
				"metadata": {},
				"source": [
					"Simple animations Using clear_output"
				]
			},
			{
				"cell_type": "markdown",
				"metadata": {},
				"source": [
					"Sometimes you want to clear the output area in the middle of a calculation.  This can be useful for doing simple animations. In terminals, there is the carriage-return (`'\\r'`) for overwriting a single line, but the notebook frontend can clear the whole output area, not just a single line.\n",
					"\n",
					"To clear output in the Notebook you can use the `clear_output()` function.  If you are clearing the output every frame of an animation, calling `clear_output()` will create noticeable flickering.  You can use `clear_output(wait=True)` to add the *clear_output* call to a queue.  When data becomes available to replace the existing output, the *clear_output* will be called immediately before the new data is added.  This avoids the flickering by not rendering the cleared output to the screen."
				]
			},
			{
				"cell_type": "heading",
				"level": 2,
				"metadata": {},
				"source": [
					"Simple example"
				]
			},
			{
				"cell_type": "markdown",
				"metadata": {},
				"source": [
					"Here we show our progress iterating through a list:"
				]
			},
			{
				"cell_type": "code",
				"collapsed": true,
				"input": [
					"import sys\n",
					"import time"
				],
				"language": "python",
				"metadata": {},
				"outputs": [],
				"prompt_number": 1
			},
			{
				"cell_type": "code",
				"collapsed": false,
				"input": [
					"from IPython.display import display, clear_output\n",
					"for i in range(10):\n",
					"    time.sleep(0.25)\n",
					"    clear_output(wait=True)\n",
					"    print(i)\n",
					"    sys.stdout.flush()"
				],
				"language": "python",
				"metadata": {},
				"outputs": [{
					"output_type": "stream",
					"stream": "stdout",
					"text": [
						"9\n"
					]
				}],
				"prompt_number": 2
			}
		]
	}]
}
