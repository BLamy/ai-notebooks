{
 "cells": [
  {
   "cell_type": "markdown",
   "id": "29f72546",
   "metadata": {},
   "source": [
    "# Install Dependencies"
   ]
  },
  {
   "cell_type": "code",
   "execution_count": null,
   "id": "9c4620d8",
   "metadata": {},
   "outputs": [],
   "source": [
    "%pip install -q gradio\n",
    "%pip install langchain\n",
    "%pip install --upgrade openai\n",
    "%pip install python-dotenv\n",
    "%load_ext dotenv\n",
    "%dotenv"
   ]
  },
  {
   "cell_type": "markdown",
   "id": "6ddf21a4",
   "metadata": {},
   "source": [
    "# Set Open AI API key from ENV variables"
   ]
  },
  {
   "cell_type": "code",
   "execution_count": 2,
   "id": "db7b62b3",
   "metadata": {},
   "outputs": [],
   "source": [
    "import os\n",
    "import openai\n",
    "openai.api_key = os.environ[\"OPENAI_API_KEY\"]"
   ]
  },
  {
   "cell_type": "markdown",
   "id": "12ad6fe8",
   "metadata": {},
   "source": [
    "# Creates a Prompt using Lang chain"
   ]
  },
  {
   "cell_type": "code",
   "execution_count": 3,
   "id": "30c97572",
   "metadata": {},
   "outputs": [],
   "source": [
    "from langchain import PromptTemplate\n",
    "template = \"\"\"I want you to act as an insult generator\n",
    "I will give you a name of a person and you will come up with a degrading nickname for them. \n",
    "The first person I would like you to come up with a nickname for is: {name}.\n",
    "\"\"\"\n",
    "\n",
    "prompt = PromptTemplate(\n",
    "    input_variables=[\"name\"],\n",
    "    template=template,\n",
    ")"
   ]
  },
  {
   "cell_type": "markdown",
   "id": "098927d3",
   "metadata": {},
   "source": [
    "# Creates a Web UI with gradio "
   ]
  },
  {
   "cell_type": "code",
   "execution_count": 5,
   "id": "92845f35",
   "metadata": {},
   "outputs": [
    {
     "name": "stdout",
     "output_type": "stream",
     "text": [
      "Running on local URL:  http://127.0.0.1:7863\n",
      "Running on public URL: https://73d2aa94-e7a4-4257.gradio.live\n",
      "\n",
      "This share link expires in 72 hours. For free permanent hosting and GPU upgrades (NEW!), check out Spaces: https://huggingface.co/spaces\n"
     ]
    },
    {
     "data": {
      "text/html": [
       "<div><iframe src=\"https://73d2aa94-e7a4-4257.gradio.live\" width=\"100%\" height=\"500\" allow=\"autoplay; camera; microphone; clipboard-read; clipboard-write;\" frameborder=\"0\" allowfullscreen></iframe></div>"
      ],
      "text/plain": [
       "<IPython.core.display.HTML object>"
      ]
     },
     "metadata": {},
     "output_type": "display_data"
    },
    {
     "data": {
      "text/plain": []
     },
     "execution_count": 5,
     "metadata": {},
     "output_type": "execute_result"
    }
   ],
   "source": [
    "import gradio\n",
    "\n",
    "def generateInsult(name):\n",
    "    res = openai.Completion.create(\n",
    "      model=\"text-davinci-003\",\n",
    "      prompt=prompt.format(name=name),\n",
    "      temperature=0.7,\n",
    "      max_tokens=256,\n",
    "      top_p=1,\n",
    "      frequency_penalty=0,\n",
    "      presence_penalty=0\n",
    "    )\n",
    "    return res.choices[0].text\n",
    "\n",
    "gradio.Interface(generateInsult, gradio.Radio([\"mike\", \"liana\"]), \"text\").launch(share=True)"
   ]
  },
  {
   "cell_type": "code",
   "execution_count": null,
   "id": "3a4299ee",
   "metadata": {},
   "outputs": [],
   "source": []
  }
 ],
 "metadata": {
  "kernelspec": {
   "display_name": "Python 3 (ipykernel)",
   "language": "python",
   "name": "python3"
  },
  "language_info": {
   "codemirror_mode": {
    "name": "ipython",
    "version": 3
   },
   "file_extension": ".py",
   "mimetype": "text/x-python",
   "name": "python",
   "nbconvert_exporter": "python",
   "pygments_lexer": "ipython3",
   "version": "3.9.6"
  }
 },
 "nbformat": 4,
 "nbformat_minor": 5
}
